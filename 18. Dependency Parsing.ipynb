{
 "cells": [
  {
   "cell_type": "markdown",
   "id": "0c62928a",
   "metadata": {},
   "source": [
    "#### Definition:\n",
    "Dependency parsing is a process in natural language processing (NLP) that analyzes the grammatical structure of a sentence, establishing relationships between \"head\" words and words that modify those heads. This technique helps in understanding the syntactic structure of a sentence by identifying dependencies between words.\n",
    "\n",
    "#### Use Cases:\n",
    "1. Information Extraction: Extracting structured information from unstructured text.\n",
    "2. Question Answering: Improving the performance of QA systems by understanding the syntactic structure of questions.\n",
    "3. Text Summarization: Understanding the main structure and dependencies within sentences to create better summaries.\n",
    "4. Machine Translation: Improving translations by understanding the syntactic structure of source sentences."
   ]
  },
  {
   "cell_type": "markdown",
   "id": "1afdcc0a",
   "metadata": {},
   "source": [
    "#### Short Implementation using SpaCy:\n",
    "Install SpaCy and download a language model:"
   ]
  },
  {
   "cell_type": "raw",
   "id": "38c8cd60",
   "metadata": {},
   "source": [
    "pip install spacy\n",
    "python -m spacy download en_core_web_sm\n"
   ]
  },
  {
   "cell_type": "markdown",
   "id": "e367da1c",
   "metadata": {},
   "source": [
    "#### Dependency parsing with SpaCy:"
   ]
  },
  {
   "cell_type": "code",
   "execution_count": null,
   "id": "232d2a72",
   "metadata": {},
   "outputs": [],
   "source": [
    "import spacy\n",
    "\n",
    "# Load the English model\n",
    "nlp = spacy.load(\"en_core_web_sm\")\n",
    "\n",
    "# Example sentence\n",
    "sentence = \"The quick brown fox jumps over the lazy dog.\"\n",
    "\n",
    "# Parse the sentence\n",
    "doc = nlp(sentence)\n",
    "\n",
    "# Print dependencies\n",
    "for token in doc:\n",
    "    print(f'{token.text} -> {token.dep_} -> {token.head.text}')\n"
   ]
  }
 ],
 "metadata": {
  "kernelspec": {
   "display_name": "Python 3 (ipykernel)",
   "language": "python",
   "name": "python3"
  },
  "language_info": {
   "codemirror_mode": {
    "name": "ipython",
    "version": 3
   },
   "file_extension": ".py",
   "mimetype": "text/x-python",
   "name": "python",
   "nbconvert_exporter": "python",
   "pygments_lexer": "ipython3",
   "version": "3.9.12"
  }
 },
 "nbformat": 4,
 "nbformat_minor": 5
}
