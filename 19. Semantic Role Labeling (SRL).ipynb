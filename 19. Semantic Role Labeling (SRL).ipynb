{
 "cells": [
  {
   "cell_type": "markdown",
   "id": "c005117f",
   "metadata": {},
   "source": [
    "#### Definition:\n",
    "Semantic Role Labeling (SRL) is a process in NLP that assigns roles to words or phrases in a sentence, indicating their relationships and the roles they play in the context of a predicate. It identifies \"who\" did \"what\" to \"whom\", \"when\", \"where\", \"why\", etc.\n",
    "\n",
    "#### Use Cases:\n",
    "1. Information Extraction: Extracting meaningful information from text by identifying roles and relationships.\n",
    "2. Question Answering: Enhancing the ability of QA systems to understand and answer questions based on semantic roles.\n",
    "3. Machine Translation: Improving translations by preserving the roles and relationships in the translated sentences.\n",
    "4. Text Summarization: Identifying key elements and their roles to generate accurate summaries."
   ]
  },
  {
   "cell_type": "markdown",
   "id": "39a9870e",
   "metadata": {},
   "source": [
    "#### Short Implementation using AllenNLP:\n",
    "Install AllenNLP"
   ]
  },
  {
   "cell_type": "code",
   "execution_count": null,
   "id": "b56665af",
   "metadata": {},
   "outputs": [],
   "source": [
    "pip install allennlp\n",
    "pip install allennlp-models"
   ]
  },
  {
   "cell_type": "markdown",
   "id": "1c21aab6",
   "metadata": {},
   "source": [
    "#### Semantic role labeling with AllenNLP:"
   ]
  },
  {
   "cell_type": "code",
   "execution_count": null,
   "id": "71b3ff10",
   "metadata": {},
   "outputs": [],
   "source": [
    "from allennlp.predictors.predictor import Predictor\n",
    "import allennlp_models.tagging\n",
    "\n",
    "# Load the pre-trained SRL model\n",
    "predictor = Predictor.from_path(\"https://storage.googleapis.com/allennlp-public-models/bert-base-srl-2020.11.19.tar.gz\")\n",
    "\n",
    "# Example sentence\n",
    "sentence = \"The quick brown fox jumps over the lazy dog.\"\n",
    "\n",
    "# Get SRL predictions\n",
    "result = predictor.predict(sentence=sentence)\n",
    "\n",
    "# Print semantic roles\n",
    "for verb in result['verbs']:\n",
    "    print(f\"Verb: {verb['verb']}\")\n",
    "    print(\"Description:\", verb['description'])\n"
   ]
  }
 ],
 "metadata": {
  "kernelspec": {
   "display_name": "Python 3 (ipykernel)",
   "language": "python",
   "name": "python3"
  },
  "language_info": {
   "codemirror_mode": {
    "name": "ipython",
    "version": 3
   },
   "file_extension": ".py",
   "mimetype": "text/x-python",
   "name": "python",
   "nbconvert_exporter": "python",
   "pygments_lexer": "ipython3",
   "version": "3.9.12"
  }
 },
 "nbformat": 4,
 "nbformat_minor": 5
}
