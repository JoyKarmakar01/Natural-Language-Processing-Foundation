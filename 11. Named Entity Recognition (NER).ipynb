{
 "cells": [
  {
   "cell_type": "markdown",
   "id": "eb987cae",
   "metadata": {},
   "source": [
    "#### Definition:\n",
    "Named Entity Recognition (NER) is a natural language processing task that involves identifying and classifying named entities (such as people, organizations, locations, dates, etc.) in text into predefined categories."
   ]
  },
  {
   "cell_type": "markdown",
   "id": "620a99d5",
   "metadata": {},
   "source": [
    "#### Types:\n",
    "1. Rule-based NER: Uses predefined patterns and rules to identify entities.\n",
    "2. Statistical NER: Uses machine learning models trained on labeled data.\n",
    "3. Deep Learning NER: Utilizes deep learning models like LSTMs, CRFs, and transformers."
   ]
  },
  {
   "cell_type": "markdown",
   "id": "5b8fb79c",
   "metadata": {},
   "source": [
    "#### Use Cases:\n",
    "1. Information Extraction: Extracting structured information from unstructured text.\n",
    "2. Content Classification: Categorizing documents based on the entities they contain.\n",
    "3. Knowledge Graph Construction: Building knowledge graphs from text data.\n",
    "4. Customer Support: Identifying key entities in customer queries for better response."
   ]
  },
  {
   "cell_type": "markdown",
   "id": "1720ff54",
   "metadata": {},
   "source": [
    "#### Short Implementation:"
   ]
  },
  {
   "cell_type": "code",
   "execution_count": null,
   "id": "67855cd7",
   "metadata": {},
   "outputs": [],
   "source": [
    "import spacy\n",
    "\n",
    "# Load pre-trained model\n",
    "nlp = spacy.load('en_core_web_sm')\n",
    "\n",
    "# Sample text\n",
    "text = \"Apple is looking at buying U.K. startup for $1 billion.\"\n",
    "\n",
    "# Process text\n",
    "doc = nlp(text)\n",
    "\n",
    "# Extract entities\n",
    "for ent in doc.ents:\n",
    "    print(ent.text, ent.label_)\n"
   ]
  },
  {
   "cell_type": "markdown",
   "id": "ebed88f2",
   "metadata": {},
   "source": [
    "#### Explanation:\n",
    "This code uses spaCy, a popular NLP library, to perform NER. The pre-trained model en_core_web_sm identifies entities in the sample text and prints them along with their labels."
   ]
  },
  {
   "cell_type": "code",
   "execution_count": null,
   "id": "811456fd",
   "metadata": {},
   "outputs": [],
   "source": []
  }
 ],
 "metadata": {
  "kernelspec": {
   "display_name": "Python 3 (ipykernel)",
   "language": "python",
   "name": "python3"
  },
  "language_info": {
   "codemirror_mode": {
    "name": "ipython",
    "version": 3
   },
   "file_extension": ".py",
   "mimetype": "text/x-python",
   "name": "python",
   "nbconvert_exporter": "python",
   "pygments_lexer": "ipython3",
   "version": "3.9.12"
  }
 },
 "nbformat": 4,
 "nbformat_minor": 5
}
