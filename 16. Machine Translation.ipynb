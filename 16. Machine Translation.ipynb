{
 "cells": [
  {
   "cell_type": "markdown",
   "id": "44b7c4d3",
   "metadata": {},
   "source": [
    "#### Definition:\n",
    "Machine Translation (MT) is the process of using computer algorithms to translate text or speech from one language to another. It is a significant application of natural language processing and aims to break down language barriers by providing automated translation services.\n",
    "\n",
    "#### Types:\n",
    "1. Rule-Based Machine Translation (RBMT): Uses a set of linguistic rules for translating text.\n",
    "2. Statistical Machine Translation (SMT): Uses statistical models based on bilingual text corpora to translate text.\n",
    "3. Neural Machine Translation (NMT): Uses deep learning models, specifically neural networks, to translate text.\n",
    "\n",
    "#### Use Cases:\n",
    "\n",
    "1. Global Communication: Facilitating communication between speakers of different languages.\n",
    "2. Content Localization: Translating websites, documents, and software for international audiences.\n",
    "3. Real-Time Translation: Providing instant translation services in applications like chatbots and virtual assistants.\n",
    "4. Education: Helping students understand foreign language texts."
   ]
  },
  {
   "cell_type": "markdown",
   "id": "6399bb22",
   "metadata": {},
   "source": [
    "#### Short Implementation:\n",
    "We will use the transformers library by Hugging Face to implement machine translation in Python.\n",
    "\n"
   ]
  },
  {
   "cell_type": "markdown",
   "id": "b6811bfd",
   "metadata": {},
   "source": [
    "#### Step-by-Step Implementation:\n",
    "Install the necessary library:"
   ]
  },
  {
   "cell_type": "code",
   "execution_count": null,
   "id": "12aa73ff",
   "metadata": {},
   "outputs": [],
   "source": [
    "pip install transformers"
   ]
  },
  {
   "cell_type": "markdown",
   "id": "91bd3adc",
   "metadata": {},
   "source": [
    "#### Import the libraries and load the model:"
   ]
  },
  {
   "cell_type": "code",
   "execution_count": null,
   "id": "3419b12f",
   "metadata": {},
   "outputs": [],
   "source": [
    "from transformers import MarianMTModel, MarianTokenizer\n",
    "\n",
    "# Load the model and tokenizer for translation\n",
    "model_name = 'Helsinki-NLP/opus-mt-en-fr'  # English to French model\n",
    "tokenizer = MarianTokenizer.from_pretrained(model_name)\n",
    "model = MarianMTModel.from_pretrained(model_name)\n"
   ]
  },
  {
   "cell_type": "markdown",
   "id": "0b63eb81",
   "metadata": {},
   "source": [
    "#### Define the text to be translated:"
   ]
  },
  {
   "cell_type": "code",
   "execution_count": null,
   "id": "c0c761bb",
   "metadata": {},
   "outputs": [],
   "source": [
    "text = \"Natural language processing is a fascinating field of artificial intelligence.\"\n"
   ]
  },
  {
   "cell_type": "markdown",
   "id": "6a6c03f5",
   "metadata": {},
   "source": [
    "#### Tokenize the text and generate the translation:"
   ]
  },
  {
   "cell_type": "code",
   "execution_count": null,
   "id": "c25ec7f4",
   "metadata": {},
   "outputs": [],
   "source": [
    "# Tokenize the text\n",
    "tokens = tokenizer.encode(text, return_tensors='pt')\n",
    "\n",
    "# Generate translation\n",
    "translated_tokens = model.generate(tokens, max_length=40, num_beams=4, early_stopping=True)\n",
    "\n",
    "# Decode the translated tokens\n",
    "translation = tokenizer.decode(translated_tokens[0], skip_special_tokens=True)\n",
    "\n",
    "# Print the translation\n",
    "print(translation)\n"
   ]
  },
  {
   "cell_type": "markdown",
   "id": "dba0159a",
   "metadata": {},
   "source": [
    "#### Explanation:\n",
    "1. Load the Model and Tokenizer: The MarianMTModel and MarianTokenizer from the transformers library are used to load a pre-trained translation model for English to French translation.\n",
    "2. Define the Text: The text to be translated is defined as a string.\n",
    "3. Tokenize and Translate: The text is tokenized, and the translation is generated using the generate method of the model.\n",
    "4. Decode the Translation: The translated tokens are decoded back into a string."
   ]
  },
  {
   "cell_type": "markdown",
   "id": "73ab8334",
   "metadata": {},
   "source": [
    "#### Advanced Neural Machine Translation:\n",
    "For more advanced translations, you can use models like T5 or BART, which can handle a variety of translation tasks."
   ]
  },
  {
   "cell_type": "markdown",
   "id": "1a103ff8",
   "metadata": {},
   "source": [
    "#### Using T5 for Translation:\n",
    "Load the T5 model:"
   ]
  },
  {
   "cell_type": "code",
   "execution_count": null,
   "id": "f4013eb9",
   "metadata": {},
   "outputs": [],
   "source": [
    "from transformers import T5Tokenizer, T5ForConditionalGeneration\n",
    "\n",
    "# Load pre-trained T5 model and tokenizer\n",
    "model_name = 't5-base'\n",
    "tokenizer = T5Tokenizer.from_pretrained(model_name)\n",
    "model = T5ForConditionalGeneration.from_pretrained(model_name)\n"
   ]
  },
  {
   "cell_type": "markdown",
   "id": "160a0c5f",
   "metadata": {},
   "source": [
    "#### Tokenize and translate:"
   ]
  },
  {
   "cell_type": "code",
   "execution_count": null,
   "id": "db710659",
   "metadata": {},
   "outputs": [],
   "source": [
    "\n",
    "# Prepend the task prefix\n",
    "text = \"translate English to French: Natural language processing is a fascinating field of artificial intelligence.\"\n",
    "\n",
    "# Tokenize the text\n",
    "inputs = tokenizer.encode(text, return_tensors='pt', max_length=512, truncation=True)\n",
    "\n",
    "# Generate translation\n",
    "translated_tokens = model.generate(inputs, max_length=40, num_beams=4, early_stopping=True)\n",
    "translation = tokenizer.decode(translated_tokens[0], skip_special_tokens=True)\n",
    "\n",
    "# Print the translation\n",
    "print(translation)\n"
   ]
  },
  {
   "cell_type": "markdown",
   "id": "44a91d2c",
   "metadata": {},
   "source": [
    "#### Conclusion:\n",
    "Machine translation using pre-trained models from the transformers library is a powerful and efficient way to translate text between languages. These models can be fine-tuned further to improve performance on specific language pairs or translation tasks."
   ]
  },
  {
   "cell_type": "code",
   "execution_count": null,
   "id": "31bee8b5",
   "metadata": {},
   "outputs": [],
   "source": []
  }
 ],
 "metadata": {
  "kernelspec": {
   "display_name": "Python 3 (ipykernel)",
   "language": "python",
   "name": "python3"
  },
  "language_info": {
   "codemirror_mode": {
    "name": "ipython",
    "version": 3
   },
   "file_extension": ".py",
   "mimetype": "text/x-python",
   "name": "python",
   "nbconvert_exporter": "python",
   "pygments_lexer": "ipython3",
   "version": "3.9.12"
  }
 },
 "nbformat": 4,
 "nbformat_minor": 5
}
