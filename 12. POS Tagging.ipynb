{
 "cells": [
  {
   "cell_type": "markdown",
   "id": "840acc25",
   "metadata": {},
   "source": [
    "#### Definition:\n",
    "Part-of-Speech (POS) tagging is the process of marking up a word in a text (corpus) as corresponding to a particular part of speech, based on its definition and context."
   ]
  },
  {
   "cell_type": "markdown",
   "id": "9420c715",
   "metadata": {},
   "source": [
    "#### Types:\n",
    "1. Rule-based POS Tagging: Uses linguistic rules to assign POS tags.\n",
    "2. Statistical POS Tagging: Uses probabilistic models trained on labeled data.\n",
    "3. Deep Learning POS Tagging: Utilizes neural networks to predict POS tags."
   ]
  },
  {
   "cell_type": "markdown",
   "id": "38d983f7",
   "metadata": {},
   "source": [
    "#### Use Cases:\n",
    "1. Text Analysis: Understanding the grammatical structure of a sentence.\n",
    "2. Information Retrieval: Improving search engines by understanding the context of words.\n",
    "3. Speech Recognition: Enhancing the accuracy of transcriptions.\n",
    "4. Language Translation: Improving the quality of machine translations."
   ]
  },
  {
   "cell_type": "code",
   "execution_count": null,
   "id": "f941d7b4",
   "metadata": {},
   "outputs": [],
   "source": [
    "import spacy\n",
    "\n",
    "# Load pre-trained model\n",
    "nlp = spacy.load('en_core_web_sm')\n",
    "\n",
    "# Sample text\n",
    "text = \"Apple is looking at buying U.K. startup for $1 billion.\"\n",
    "\n",
    "# Process text\n",
    "doc = nlp(text)\n",
    "\n",
    "# Extract POS tags\n",
    "for token in doc:\n",
    "    print(token.text, token.pos_, token.tag_)\n"
   ]
  },
  {
   "cell_type": "markdown",
   "id": "d27a8756",
   "metadata": {},
   "source": [
    "#### Explanation:\n",
    "This code uses spaCy to perform POS tagging. The pre-trained model en_core_web_sm identifies the POS tags for each word in the sample text and prints them along with their detailed POS tags."
   ]
  },
  {
   "cell_type": "code",
   "execution_count": null,
   "id": "60ffa2c9",
   "metadata": {},
   "outputs": [],
   "source": []
  }
 ],
 "metadata": {
  "kernelspec": {
   "display_name": "Python 3 (ipykernel)",
   "language": "python",
   "name": "python3"
  },
  "language_info": {
   "codemirror_mode": {
    "name": "ipython",
    "version": 3
   },
   "file_extension": ".py",
   "mimetype": "text/x-python",
   "name": "python",
   "nbconvert_exporter": "python",
   "pygments_lexer": "ipython3",
   "version": "3.9.12"
  }
 },
 "nbformat": 4,
 "nbformat_minor": 5
}
