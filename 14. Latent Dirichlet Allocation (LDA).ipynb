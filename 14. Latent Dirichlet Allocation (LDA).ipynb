{
 "cells": [
  {
   "cell_type": "markdown",
   "id": "d12763b7",
   "metadata": {},
   "source": [
    "#### Definition:\n",
    "Latent Dirichlet Allocation (LDA) is a generative probabilistic model used for topic modeling. It aims to discover the underlying topics in a collection of documents. Each document is represented as a mixture of topics, and each topic is represented as a mixture of words.\n",
    "\n",
    "#### Types:\n",
    "1. Batch LDA: Processes the entire dataset at once.\n",
    "2. Online LDA: Processes the dataset incrementally, suitable for large datasets.\n",
    "#### Use Cases:\n",
    "1. Topic Discovery: Identifying the main topics in a collection of documents.\n",
    "2. Document Classification: Classifying documents based on their topics.\n",
    "3. Recommender Systems: Recommending content based on identified topics.\n",
    "4. Information Retrieval: Enhancing search engines by indexing documents based on topics.\n",
    "#### Short Implementation:\n",
    "We will use the gensim library to implement LDA in Python.\n",
    "\n",
    "#### Step-by-Step Implementation:\n",
    "Install the necessary libraries:\n",
    "\n",
    "pip install gensim nltk\n"
   ]
  },
  {
   "cell_type": "code",
   "execution_count": null,
   "id": "e4ea2577",
   "metadata": {},
   "outputs": [],
   "source": [
    "import gensim\n",
    "import gensim.corpora as corpora\n",
    "from gensim.utils import simple_preprocess\n",
    "from gensim.models import CoherenceModel\n",
    "import nltk\n",
    "from nltk.corpus import stopwords\n",
    "import re\n",
    "\n",
    "# Download stopwords\n",
    "nltk.download('stopwords')\n",
    "\n",
    "# Sample data\n",
    "data = [\n",
    "    'I love natural language processing.',\n",
    "    'Machine learning is fascinating.',\n",
    "    'Artificial intelligence is the future.',\n",
    "    'NLP is a subset of AI.',\n",
    "    'Deep learning is a branch of machine learning.'\n",
    "]\n",
    "\n",
    "# Preprocessing function\n",
    "def preprocess(text):\n",
    "    result = []\n",
    "    for token in simple_preprocess(text):\n",
    "        if token not in stopwords.words('english') and len(token) > 3:\n",
    "            result.append(token)\n",
    "    return result\n",
    "\n",
    "# Preprocess data\n",
    "processed_data = [preprocess(doc) for doc in data]\n"
   ]
  },
  {
   "cell_type": "markdown",
   "id": "cde4c244",
   "metadata": {},
   "source": [
    "Create the dictionary and corpus:"
   ]
  },
  {
   "cell_type": "code",
   "execution_count": null,
   "id": "eafb8ca8",
   "metadata": {},
   "outputs": [],
   "source": [
    "# Create Dictionary\n",
    "id2word = corpora.Dictionary(processed_data)\n",
    "\n",
    "# Create Corpus: Term Document Frequency\n",
    "corpus = [id2word.doc2bow(text) for text in processed_data]\n"
   ]
  },
  {
   "cell_type": "markdown",
   "id": "e943506b",
   "metadata": {},
   "source": [
    "#### Build the LDA model:"
   ]
  },
  {
   "cell_type": "code",
   "execution_count": null,
   "id": "d05b5148",
   "metadata": {},
   "outputs": [],
   "source": [
    "# Build LDA model\n",
    "lda_model = gensim.models.ldamodel.LdaModel(corpus=corpus,\n",
    "                                            id2word=id2word,\n",
    "                                            num_topics=2, \n",
    "                                            random_state=100,\n",
    "                                            update_every=1,\n",
    "                                            chunksize=10,\n",
    "                                            passes=10,\n",
    "                                            alpha='auto',\n",
    "                                            per_word_topics=True)\n"
   ]
  },
  {
   "cell_type": "markdown",
   "id": "d7889253",
   "metadata": {},
   "source": [
    "#### Print the topics:"
   ]
  },
  {
   "cell_type": "code",
   "execution_count": null,
   "id": "7c044114",
   "metadata": {},
   "outputs": [],
   "source": [
    "# Print the topics\n",
    "topics = lda_model.print_topics(num_words=3)\n",
    "for topic in topics:\n",
    "    print(topic)\n"
   ]
  },
  {
   "cell_type": "markdown",
   "id": "e76712e0",
   "metadata": {},
   "source": [
    "#### Evaluate the model:"
   ]
  },
  {
   "cell_type": "code",
   "execution_count": null,
   "id": "245c2784",
   "metadata": {},
   "outputs": [],
   "source": [
    "# Compute Perplexity\n",
    "print('\\nPerplexity: ', lda_model.log_perplexity(corpus))\n",
    "\n",
    "# Compute Coherence Score\n",
    "coherence_model_lda = CoherenceModel(model=lda_model, texts=processed_data, dictionary=id2word, coherence='c_v')\n",
    "coherence_lda = coherence_model_lda.get_coherence()\n",
    "print('\\nCoherence Score: ', coherence_lda)\n"
   ]
  },
  {
   "cell_type": "markdown",
   "id": "d14ea43f",
   "metadata": {},
   "source": [
    "#### Explanation:\n",
    "1. Data Preprocessing: The text is tokenized, and stopwords are removed to create a list of meaningful words.\n",
    "2. Dictionary and Corpus Creation: A dictionary (mapping of words to IDs) and a corpus (bag-of-words representation of the documents) are created.\n",
    "3. Building the LDA Model: The LDA model is trained on the corpus to identify 2 topics. The parameters can be adjusted based on the dataset and requirements.\n",
    "4. Printing Topics: The top words for each topic are printed.\n",
    "5. Model Evaluation: Perplexity and coherence scores are used to evaluate the quality of the topics generated by the model.\n",
    "LDA is a powerful tool for uncovering hidden topics in text data, making it useful for a wide range of applications in NLP and text mining."
   ]
  },
  {
   "cell_type": "code",
   "execution_count": null,
   "id": "7dc7e69e",
   "metadata": {},
   "outputs": [],
   "source": []
  }
 ],
 "metadata": {
  "kernelspec": {
   "display_name": "Python 3 (ipykernel)",
   "language": "python",
   "name": "python3"
  },
  "language_info": {
   "codemirror_mode": {
    "name": "ipython",
    "version": 3
   },
   "file_extension": ".py",
   "mimetype": "text/x-python",
   "name": "python",
   "nbconvert_exporter": "python",
   "pygments_lexer": "ipython3",
   "version": "3.9.12"
  }
 },
 "nbformat": 4,
 "nbformat_minor": 5
}
