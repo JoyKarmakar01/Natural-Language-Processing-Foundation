{
 "cells": [
  {
   "cell_type": "markdown",
   "id": "6d0e3ef1",
   "metadata": {},
   "source": [
    "#### Definition:"
   ]
  },
  {
   "cell_type": "markdown",
   "id": "d68f8d53",
   "metadata": {},
   "source": [
    "Word2Vec is a neural network-based technique for learning distributed representations of words in a continuous vector space. These vectors capture semantic relationships between words, meaning words with similar meanings will have similar vectors."
   ]
  },
  {
   "cell_type": "markdown",
   "id": "c7d9ee98",
   "metadata": {},
   "source": [
    "#### Types:"
   ]
  },
  {
   "cell_type": "markdown",
   "id": "4245d65f",
   "metadata": {},
   "source": [
    "1. Continuous Bag of Words (CBOW): Predicts the target word (center word) based on the context words (surrounding words).\n",
    "2. Skip-gram: Predicts the context words based on the target word (center word)."
   ]
  },
  {
   "cell_type": "markdown",
   "id": "b3d3d51a",
   "metadata": {},
   "source": [
    "#### Use Cases:"
   ]
  },
  {
   "cell_type": "markdown",
   "id": "77c5de33",
   "metadata": {},
   "source": [
    "1. Text Similarity: Finding similar words or documents.\n",
    "2. Machine Translation: Translating words or phrases to another language.\n",
    "3. Sentiment Analysis: Enhancing the feature space for sentiment classification.\n",
    "4. Named Entity Recognition (NER): Improving the identification of entities in text."
   ]
  },
  {
   "cell_type": "markdown",
   "id": "1bc7a83e",
   "metadata": {},
   "source": [
    "#### Implementation in Python:\n",
    "We'll use the gensim library to implement Word2Vec."
   ]
  },
  {
   "cell_type": "markdown",
   "id": "1f3b9534",
   "metadata": {},
   "source": [
    "#### Installation:\n",
    "Ensure you have gensim installed:"
   ]
  },
  {
   "cell_type": "code",
   "execution_count": 2,
   "id": "8fb7f041",
   "metadata": {},
   "outputs": [
    {
     "name": "stdout",
     "output_type": "stream",
     "text": [
      "Requirement already satisfied: gensim in c:\\users\\karma\\anaconda3\\lib\\site-packages (4.1.2)\n",
      "Requirement already satisfied: scipy>=0.18.1 in c:\\users\\karma\\anaconda3\\lib\\site-packages (from gensim) (1.7.3)\n",
      "Requirement already satisfied: smart-open>=1.8.1 in c:\\users\\karma\\anaconda3\\lib\\site-packages (from gensim) (6.4.0)\n",
      "Requirement already satisfied: numpy>=1.17.0 in c:\\users\\karma\\anaconda3\\lib\\site-packages (from gensim) (1.22.4)\n",
      "Note: you may need to restart the kernel to use updated packages.\n"
     ]
    },
    {
     "name": "stderr",
     "output_type": "stream",
     "text": [
      "WARNING: Ignoring invalid distribution -ensorflow-intel (c:\\users\\karma\\anaconda3\\lib\\site-packages)\n",
      "WARNING: Ignoring invalid distribution -ensorflow-intel (c:\\users\\karma\\anaconda3\\lib\\site-packages)\n",
      "WARNING: Ignoring invalid distribution -ensorflow-intel (c:\\users\\karma\\anaconda3\\lib\\site-packages)\n",
      "WARNING: Ignoring invalid distribution -ensorflow-intel (c:\\users\\karma\\anaconda3\\lib\\site-packages)\n",
      "WARNING: Ignoring invalid distribution -ensorflow-intel (c:\\users\\karma\\anaconda3\\lib\\site-packages)\n",
      "WARNING: Ignoring invalid distribution -ensorflow-intel (c:\\users\\karma\\anaconda3\\lib\\site-packages)\n"
     ]
    }
   ],
   "source": [
    "pip install gensim\n"
   ]
  },
  {
   "cell_type": "code",
   "execution_count": 1,
   "id": "e5955cf7",
   "metadata": {},
   "outputs": [
    {
     "name": "stderr",
     "output_type": "stream",
     "text": [
      "C:\\Users\\karma\\anaconda3\\lib\\site-packages\\numpy\\_distributor_init.py:30: UserWarning: loaded more than 1 DLL from .libs:\n",
      "C:\\Users\\karma\\anaconda3\\lib\\site-packages\\numpy\\.libs\\libopenblas.EL2C6PLE4ZYW3ECEVIV3OXXGRN2NRFM2.gfortran-win_amd64.dll\n",
      "C:\\Users\\karma\\anaconda3\\lib\\site-packages\\numpy\\.libs\\libopenblas.XWYDX2IKJW2NMTWSFYNGFUWKQU3LYTCZ.gfortran-win_amd64.dll\n",
      "  warnings.warn(\"loaded more than 1 DLL from .libs:\"\n"
     ]
    },
    {
     "name": "stdout",
     "output_type": "stream",
     "text": [
      "Vector for 'natural':\n",
      "[ 9.4563962e-05  3.0773198e-03 -6.8126451e-03 -1.3754654e-03\n",
      "  7.6685809e-03  7.3464094e-03 -3.6732971e-03  2.6427018e-03\n",
      " -8.3171297e-03  6.2054861e-03 -4.6373224e-03 -3.1641065e-03\n",
      "  9.3113566e-03  8.7338570e-04  7.4907029e-03 -6.0740625e-03\n",
      "  5.1605068e-03  9.9228229e-03 -8.4573915e-03 -5.1356913e-03\n",
      " -7.0648370e-03 -4.8626517e-03 -3.7785638e-03 -8.5361991e-03\n",
      "  7.9556061e-03 -4.8439382e-03  8.4236134e-03  5.2625705e-03\n",
      " -6.5500261e-03  3.9578713e-03  5.4701497e-03 -7.4265362e-03\n",
      " -7.4057197e-03 -2.4752307e-03 -8.6257253e-03 -1.5815723e-03\n",
      " -4.0343284e-04  3.2996845e-03  1.4418805e-03 -8.8142155e-04\n",
      " -5.5940580e-03  1.7303658e-03 -8.9737179e-04  6.7936908e-03\n",
      "  3.9735902e-03  4.5294715e-03  1.4343059e-03 -2.6998555e-03\n",
      " -4.3668128e-03 -1.0320747e-03  1.4370275e-03 -2.6460087e-03\n",
      " -7.0737829e-03 -7.8053069e-03 -9.1217868e-03 -5.9351693e-03\n",
      " -1.8474245e-03 -4.3238713e-03 -6.4606704e-03 -3.7173224e-03\n",
      "  4.2891586e-03 -3.7390434e-03  8.3781751e-03  1.5339935e-03\n",
      " -7.2423196e-03  9.4337985e-03  7.6312125e-03  5.4932819e-03\n",
      " -6.8488456e-03  5.8226790e-03  4.0090932e-03  5.1853694e-03\n",
      "  4.2559016e-03  1.9397545e-03 -3.1701624e-03  8.3538452e-03\n",
      "  9.6121803e-03  3.7926030e-03 -2.8369951e-03  7.1275235e-06\n",
      "  1.2188185e-03 -8.4583247e-03 -8.2239453e-03 -2.3101569e-04\n",
      "  1.2372875e-03 -5.7433806e-03 -4.7252737e-03 -7.3460746e-03\n",
      "  8.3286157e-03  1.2129784e-04 -4.5093987e-03  5.7017053e-03\n",
      "  9.1800150e-03 -4.0998720e-03  7.9646818e-03  5.3754342e-03\n",
      "  5.8791232e-03  5.1259040e-04  8.2130842e-03 -7.0190406e-03]\n",
      "Words most similar to 'natural':\n",
      "[('learning', 0.19916506111621857), ('fascinating', 0.17273053526878357), ('word2vec', 0.17022208869457245), ('embeddings', 0.1459421068429947), ('using', 0.06418416649103165)]\n"
     ]
    },
    {
     "name": "stderr",
     "output_type": "stream",
     "text": [
      "[nltk_data] Error loading punkt: <urlopen error [Errno 11001]\n",
      "[nltk_data]     getaddrinfo failed>\n"
     ]
    }
   ],
   "source": [
    "from gensim.models import Word2Vec\n",
    "from nltk.tokenize import word_tokenize\n",
    "import nltk\n",
    "\n",
    "# Download the NLTK tokenizer models\n",
    "nltk.download('punkt')\n",
    "\n",
    "# Sample documents\n",
    "documents = [\n",
    "    \"I love natural language processing\",\n",
    "    \"Natural language processing is a fascinating field\",\n",
    "    \"I am learning word embeddings using Word2Vec\"\n",
    "]\n",
    "\n",
    "# Tokenize the documents\n",
    "tokenized_documents = [word_tokenize(doc.lower()) for doc in documents]\n",
    "\n",
    "# Initialize and train the Word2Vec model\n",
    "model = Word2Vec(sentences=tokenized_documents, vector_size=100, window=5, min_count=1, workers=4)\n",
    "\n",
    "# Print the vector for a word\n",
    "word = \"natural\"\n",
    "print(f\"Vector for '{word}':\\n{model.wv[word]}\")\n",
    "\n",
    "# Find most similar words\n",
    "similar_words = model.wv.most_similar(word, topn=5)\n",
    "print(f\"Words most similar to '{word}':\\n{similar_words}\")\n"
   ]
  },
  {
   "cell_type": "markdown",
   "id": "ff250bae",
   "metadata": {},
   "source": [
    "#### Explanation:\n",
    "1. Word2Vec: Initializes the Word2Vec model.\n",
    "2. sentences: List of tokenized sentences.\n",
    "3. vector_size: Dimensionality of the word vectors.\n",
    "4. window: Maximum distance between the current and predicted word within a sentence.\n",
    "5. min_count: Ignores all words with total frequency lower than this.\n",
    "6. workers: Number of worker threads to train the model."
   ]
  },
  {
   "cell_type": "code",
   "execution_count": null,
   "id": "546b6c48",
   "metadata": {},
   "outputs": [],
   "source": []
  }
 ],
 "metadata": {
  "kernelspec": {
   "display_name": "Python 3 (ipykernel)",
   "language": "python",
   "name": "python3"
  },
  "language_info": {
   "codemirror_mode": {
    "name": "ipython",
    "version": 3
   },
   "file_extension": ".py",
   "mimetype": "text/x-python",
   "name": "python",
   "nbconvert_exporter": "python",
   "pygments_lexer": "ipython3",
   "version": "3.9.12"
  }
 },
 "nbformat": 4,
 "nbformat_minor": 5
}
