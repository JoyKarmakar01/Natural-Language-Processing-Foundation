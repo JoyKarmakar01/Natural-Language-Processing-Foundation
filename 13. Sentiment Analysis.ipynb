{
 "cells": [
  {
   "cell_type": "markdown",
   "id": "61b3dd58",
   "metadata": {},
   "source": [
    "#### Definition:\n",
    "Sentiment analysis is the task of determining the emotional tone behind a body of text. It is used to identify and categorize opinions expressed in text as positive, negative, or neutral.\n",
    "\n",
    "#### Types:\n",
    "1. Rule-based Sentiment Analysis: Uses predefined rules and lexicons to determine sentiment.\n",
    "2. Statistical Sentiment Analysis: Uses machine learning models trained on labeled data.\n",
    "3. Deep Learning Sentiment Analysis: Utilizes neural networks to predict sentiment.\n",
    "#### Use Cases:\n",
    "1. Customer Feedback Analysis: Understanding customer opinions about products or services.\n",
    "2. Market Research: Analyzing public sentiment towards brands or topics.\n",
    "3. Social Media Monitoring: Tracking sentiment on social media platforms.\n",
    "4. Product Reviews: Analyzing sentiment in product reviews to gauge customer satisfaction."
   ]
  },
  {
   "cell_type": "code",
   "execution_count": null,
   "id": "2076897a",
   "metadata": {},
   "outputs": [],
   "source": [
    "from textblob import TextBlob\n",
    "\n",
    "# Sample text\n",
    "text = \"I love this product! It's amazing and works great.\"\n",
    "\n",
    "# Perform sentiment analysis\n",
    "blob = TextBlob(text)\n",
    "sentiment = blob.sentiment\n",
    "\n",
    "print(f\"Polarity: {sentiment.polarity}, Subjectivity: {sentiment.subjectivity}\")\n"
   ]
  },
  {
   "cell_type": "markdown",
   "id": "43336c82",
   "metadata": {},
   "source": [
    "#### Explanation:\n",
    "This code uses TextBlob, a simple NLP library, to perform sentiment analysis. It calculates the polarity (positive or negative sentiment) and subjectivity (personal opinion or factual information) of the sample text.\n",
    "\n",
    "#### Conclusion:\n",
    "NER, POS tagging, and sentiment analysis are essential NLP tasks with numerous practical applications. They enable machines to understand and process human language, enhancing various applications from customer support to market analysis and beyond."
   ]
  },
  {
   "cell_type": "code",
   "execution_count": null,
   "id": "77d4032f",
   "metadata": {},
   "outputs": [],
   "source": []
  }
 ],
 "metadata": {
  "kernelspec": {
   "display_name": "Python 3 (ipykernel)",
   "language": "python",
   "name": "python3"
  },
  "language_info": {
   "codemirror_mode": {
    "name": "ipython",
    "version": 3
   },
   "file_extension": ".py",
   "mimetype": "text/x-python",
   "name": "python",
   "nbconvert_exporter": "python",
   "pygments_lexer": "ipython3",
   "version": "3.9.12"
  }
 },
 "nbformat": 4,
 "nbformat_minor": 5
}
